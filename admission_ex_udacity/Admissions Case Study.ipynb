{
 "cells": [
  {
   "cell_type": "markdown",
   "metadata": {},
   "source": [
    "### Explanation\n",
    "This case study analyses a set of admission dataset for two Major courses in a school. From the analysis, we want to determine the following:\n",
    "    1. The proportion and admission rate for each gender\n",
    "    2. The proportion and admission rate for each of the majors based on gender.\n",
    "    3. The total admission rate for each major"
   ]
  },
  {
   "cell_type": "markdown",
   "metadata": {},
   "source": [
    "Import Libraries and dataset. "
   ]
  },
  {
   "cell_type": "code",
   "execution_count": 2,
   "metadata": {},
   "outputs": [
    {
     "data": {
      "text/html": [
       "<div>\n",
       "<style scoped>\n",
       "    .dataframe tbody tr th:only-of-type {\n",
       "        vertical-align: middle;\n",
       "    }\n",
       "\n",
       "    .dataframe tbody tr th {\n",
       "        vertical-align: top;\n",
       "    }\n",
       "\n",
       "    .dataframe thead th {\n",
       "        text-align: right;\n",
       "    }\n",
       "</style>\n",
       "<table border=\"1\" class=\"dataframe\">\n",
       "  <thead>\n",
       "    <tr style=\"text-align: right;\">\n",
       "      <th></th>\n",
       "      <th>student_id</th>\n",
       "      <th>gender</th>\n",
       "      <th>major</th>\n",
       "      <th>admitted</th>\n",
       "    </tr>\n",
       "  </thead>\n",
       "  <tbody>\n",
       "    <tr>\n",
       "      <th>0</th>\n",
       "      <td>35377</td>\n",
       "      <td>female</td>\n",
       "      <td>Chemistry</td>\n",
       "      <td>False</td>\n",
       "    </tr>\n",
       "    <tr>\n",
       "      <th>1</th>\n",
       "      <td>56105</td>\n",
       "      <td>male</td>\n",
       "      <td>Physics</td>\n",
       "      <td>True</td>\n",
       "    </tr>\n",
       "    <tr>\n",
       "      <th>2</th>\n",
       "      <td>31441</td>\n",
       "      <td>female</td>\n",
       "      <td>Chemistry</td>\n",
       "      <td>False</td>\n",
       "    </tr>\n",
       "    <tr>\n",
       "      <th>3</th>\n",
       "      <td>51765</td>\n",
       "      <td>male</td>\n",
       "      <td>Physics</td>\n",
       "      <td>True</td>\n",
       "    </tr>\n",
       "    <tr>\n",
       "      <th>4</th>\n",
       "      <td>53714</td>\n",
       "      <td>female</td>\n",
       "      <td>Physics</td>\n",
       "      <td>True</td>\n",
       "    </tr>\n",
       "  </tbody>\n",
       "</table>\n",
       "</div>"
      ],
      "text/plain": [
       "   student_id  gender      major  admitted\n",
       "0       35377  female  Chemistry     False\n",
       "1       56105    male    Physics      True\n",
       "2       31441  female  Chemistry     False\n",
       "3       51765    male    Physics      True\n",
       "4       53714  female    Physics      True"
      ]
     },
     "execution_count": 2,
     "metadata": {},
     "output_type": "execute_result"
    }
   ],
   "source": [
    "import pandas as pd\n",
    "import numpy as np\n",
    "import matplotlib.pyplot as plt\n",
    "\n",
    "df = pd.read_csv('admission_data.csv')\n",
    "df.head()"
   ]
  },
  {
   "cell_type": "code",
   "execution_count": 7,
   "metadata": {},
   "outputs": [
    {
     "data": {
      "text/plain": [
       "(500, 4)"
      ]
     },
     "execution_count": 7,
     "metadata": {},
     "output_type": "execute_result"
    }
   ],
   "source": [
    "#Size of the data file\n",
    "df.shape"
   ]
  },
  {
   "cell_type": "markdown",
   "metadata": {},
   "source": [
    "##### 1. The proportion and admission rate for each gender"
   ]
  },
  {
   "cell_type": "code",
   "execution_count": 14,
   "metadata": {},
   "outputs": [
    {
     "name": "stdout",
     "output_type": "stream",
     "text": [
      "500 243 257 0.486 0.514\n"
     ]
    }
   ],
   "source": [
    "#The proportion for male\n",
    "sumStudents = df.shape[0]\n",
    "sumMale = len(df.query(\"gender == 'male'\"))\n",
    "sumFemale = len(df.query(\"gender == 'female'\"))\n",
    "\n",
    "maleProp = sumMale / sumStudents\n",
    "femaleProp = sumFemale / sumStudents\n",
    "print(sumStudents, sumMale, sumFemale, maleProp, femaleProp)"
   ]
  },
  {
   "cell_type": "code",
   "execution_count": 25,
   "metadata": {},
   "outputs": [
    {
     "data": {
      "image/png": "[encoded data removed]",
      "text/plain": [
       "<Figure size 432x288 with 1 Axes>"
      ]
     },
     "metadata": {
      "needs_background": "light"
     },
     "output_type": "display_data"
    }
   ],
   "source": [
    "plt.bar(['Male', 'Female'], [maleProp, femaleProp])\n",
    "plt.title('The Proportion of the admitted students based on gender')\n",
    "plt.xlabel('Gender')\n",
    "plt.ylabel('Proportion')\n",
    "plt.show()"
   ]
  },
  {
   "cell_type": "markdown",
   "metadata": {},
   "source": [
    "From above, it can be seen that the proportion of female students is 0.514 while that of male students is 0.486"
   ]
  },
  {
   "cell_type": "code",
   "execution_count": 22,
   "metadata": {},
   "outputs": [
    {
     "name": "stdout",
     "output_type": "stream",
     "text": [
      "74 118 0.28793774319066145 0.48559670781893005\n"
     ]
    }
   ],
   "source": [
    "#The admission Rate\n",
    "num_female_admitted = len(df[(df['gender'] == 'female') & df['admitted']])\n",
    "num_male_admitted = len(df[(df['gender'] == 'male') & df.admitted])\n",
    "rate_female = num_female_admitted / sumFemale\n",
    "rate_male = num_male_admitted / sumMale\n",
    "print(num_female_admitted, num_male_admitted, rate_female, rate_male)"
   ]
  },
  {
   "cell_type": "code",
   "execution_count": 24,
   "metadata": {},
   "outputs": [
    {
     "data": {
      "text/plain": [
       "Text(0, 0.5, 'Admitted Number')"
      ]
     },
     "execution_count": 24,
     "metadata": {},
     "output_type": "execute_result"
    },
    {
     "data": {
      "image/png": "[encoded data removed]",
      "text/plain": [
       "<Figure size 432x288 with 1 Axes>"
      ]
     },
     "metadata": {
      "needs_background": "light"
     },
     "output_type": "display_data"
    }
   ],
   "source": [
    "plt.bar(['Male', 'Female'], [num_male_admitted, num_female_admitted])\n",
    "plt.title('The number of Males and Females admitted')\n",
    "plt.xlabel('Gender')\n",
    "plt.ylabel('Admitted Number')"
   ]
  },
  {
   "cell_type": "code",
   "execution_count": 26,
   "metadata": {},
   "outputs": [
    {
     "data": {
      "text/plain": [
       "Text(0, 0.5, 'Admitted Rate')"
      ]
     },
     "execution_count": 26,
     "metadata": {},
     "output_type": "execute_result"
    },
    {
     "data": {
      "image/png": "[encoded data removed]",
      "text/plain": [
       "<Figure size 432x288 with 1 Axes>"
      ]
     },
     "metadata": {
      "needs_background": "light"
     },
     "output_type": "display_data"
    }
   ],
   "source": [
    "plt.bar(['Male', 'Female'], [rate_male, rate_female])\n",
    "plt.title('The rate of Males and Females admitted')\n",
    "plt.xlabel('Gender')\n",
    "plt.ylabel('Admitted Rate')"
   ]
  },
  {
   "cell_type": "markdown",
   "metadata": {},
   "source": [
    "#### 2. The proportion and admission rate for each of the majors based on gender: Physics"
   ]
  },
  {
   "cell_type": "code",
   "execution_count": 74,
   "metadata": {},
   "outputs": [
    {
     "name": "stdout",
     "output_type": "stream",
     "text": [
      "0.12 0.93\n"
     ]
    },
    {
     "data": {
      "image/png": "[encoded data removed]",
      "text/plain": [
       "<Figure size 432x288 with 1 Axes>"
      ]
     },
     "metadata": {
      "needs_background": "light"
     },
     "output_type": "display_data"
    }
   ],
   "source": [
    "#proportions of the students majoring in Physics\n",
    "fem_phys = len(df.query(\"gender == 'female' & major == 'Physics'\"))\n",
    "male_phys = len(df.query(\"gender == 'male' & major == 'Physics'\"))\n",
    "\n",
    "prop_female_phys = round(fem_phys / sumFemale, 2)\n",
    "prop_male_phys = round(male_phys / sumMale, 2)\n",
    "\n",
    "print(prop_female_phys, prop_male_phys)\n",
    "\n",
    "plt.bar(['Male', 'Female'], [prop_male_phys, prop_female_phys])\n",
    "plt.title('Proportion of students admitted to Physics')\n",
    "plt.xlabel('Gender')\n",
    "plt.ylabel('Proportions')\n",
    "plt.show()"
   ]
  },
  {
   "cell_type": "code",
   "execution_count": 92,
   "metadata": {},
   "outputs": [
    {
     "data": {
      "image/png": "[encoded data removed]",
      "text/plain": [
       "<Figure size 432x288 with 1 Axes>"
      ]
     },
     "metadata": {
      "needs_background": "light"
     },
     "output_type": "display_data"
    }
   ],
   "source": [
    "#rate of admitted physics major students based on gender\n",
    "\n",
    "fem_phys_adm = len(df[(df['gender'] == 'female') & (df['major'] == 'Physics') & df['admitted']])\n",
    "male_phys_adm = len(df[(df['gender'] == 'male') & (df['major'] == 'Physics') & df['admitted']])\n",
    "rate_phy_fem_adm = fem_phys_adm / fem_phys\n",
    "rate_phy_male_adm = male_phys_adm / male_phys\n",
    "fem_phys_adm, male_phys_adm, rate_phy_fem_adm, rate_phy_male_adm\n",
    "\n",
    "plt.bar(['Male', 'Female'], [rate_phy_male_adm, rate_phy_fem_adm])\n",
    "plt.title('Rate of students admitted to Physics')\n",
    "plt.xlabel('Gender')\n",
    "plt.ylabel('Rate')\n",
    "plt.show()"
   ]
  },
  {
   "cell_type": "markdown",
   "metadata": {},
   "source": [
    "#### 3. The proportion and admission rate for Chemistry based on gender"
   ]
  },
  {
   "cell_type": "code",
   "execution_count": 93,
   "metadata": {},
   "outputs": [
    {
     "name": "stdout",
     "output_type": "stream",
     "text": [
      "0.88 0.07\n"
     ]
    },
    {
     "data": {
      "image/png": "[encoded data removed]",
      "text/plain": [
       "<Figure size 432x288 with 1 Axes>"
      ]
     },
     "metadata": {
      "needs_background": "light"
     },
     "output_type": "display_data"
    }
   ],
   "source": [
    "#proportions of the students majoring in Chemistry\n",
    "fem_chem = len(df.query(\"gender == 'female' & major == 'Chemistry'\"))\n",
    "male_chem = len(df.query(\"gender == 'male' & major == 'Chemistry'\"))\n",
    "\n",
    "prop_female_chem = round(fem_chem / sumFemale, 2)\n",
    "prop_male_chem = round(male_chem / sumMale, 2)\n",
    "\n",
    "print(prop_female_chem, prop_male_chem)\n",
    "\n",
    "plt.bar(['Male', 'Female'], [prop_male_chem, prop_female_chem])\n",
    "plt.title('Proportion of students admitted to Chemistry')\n",
    "plt.xlabel('Gender')\n",
    "plt.ylabel('Proportions')\n",
    "plt.show()"
   ]
  },
  {
   "cell_type": "code",
   "execution_count": 94,
   "metadata": {},
   "outputs": [
    {
     "data": {
      "image/png": "[encoded data removed]",
      "text/plain": [
       "<Figure size 432x288 with 1 Axes>"
      ]
     },
     "metadata": {
      "needs_background": "light"
     },
     "output_type": "display_data"
    }
   ],
   "source": [
    "#rate of admitted physics major students based on gender\n",
    "\n",
    "fem_chem_adm = len(df[(df['gender'] == 'female') & (df['major'] == 'Chemistry') & df['admitted']])\n",
    "male_chem_adm = len(df[(df['gender'] == 'male') & (df['major'] == 'Chemistry') & df['admitted']])\n",
    "rate_chem_fem_adm = fem_chem_adm / fem_chem\n",
    "rate_chem_male_adm = male_chem_adm / male_chem\n",
    "fem_chem_adm, male_chem_adm, rate_chem_fem_adm, rate_chem_male_adm\n",
    "\n",
    "plt.bar(['Male', 'Female'], [rate_chem_male_adm, rate_chem_fem_adm])\n",
    "plt.title('Rate of students admitted to Chemistry')\n",
    "plt.xlabel('Gender')\n",
    "plt.ylabel('Rate')\n",
    "plt.show()"
   ]
  },
  {
   "cell_type": "markdown",
   "metadata": {},
   "source": [
    "#### 3. The total admission rate for each major"
   ]
  },
  {
   "cell_type": "code",
   "execution_count": 97,
   "metadata": {},
   "outputs": [
    {
     "name": "stdout",
     "output_type": "stream",
     "text": [
      "139 53 256 244 0.54296875 0.21721311475409835\n"
     ]
    },
    {
     "data": {
      "image/png": "[encoded data removed]",
      "text/plain": [
       "<Figure size 432x288 with 1 Axes>"
      ]
     },
     "metadata": {
      "needs_background": "light"
     },
     "output_type": "display_data"
    }
   ],
   "source": [
    "#Admission rate for Physics Majors\n",
    "num_adm_phys = len(df[(df['major'] == 'Physics') & df['admitted']])\n",
    "num_adm_chem = len(df[(df['major'] == 'Chemistry') & df['admitted']])\n",
    "num_phy_appl = len(df[df['major'] == 'Physics'])\n",
    "num_chem_appl = len(df[df['major'] == 'Chemistry'])\n",
    "adm_rate_phy = num_adm_phys / num_phy_appl\n",
    "adm_rate_chem = num_adm_chem / num_chem_appl\n",
    "\n",
    "print(num_adm_phys, num_adm_chem, num_phy_appl, num_chem_appl, adm_rate_phy, adm_rate_chem)\n",
    "\n",
    "plt.bar(['Physics', 'Chemistry'], [adm_rate_phy, adm_rate_chem])\n",
    "plt.title('Admission rate for the two Majors')\n",
    "plt.xlabel('Majors')\n",
    "plt.ylabel('Admission Rate')\n",
    "plt.show()"
   ]
  },
  {
   "cell_type": "markdown",
   "metadata": {},
   "source": [
    "From the analysis, the proportion of admitted female students is more than that of male students, though the admission rate for males is greater than females. Also, in the major subjects of Physics and Chemistry, the proportions of females with Physics major is about 12% while that of males is 92.6%, in contrast to an admission rate of 74.2% for females and 51.6% for males. In the case of Chemistry, the proportion of female with Chemistry major is about 88% compare to about 7.4% for males while the admission rate for females is also greater (0.226) than that of males (0.111)"
   ]
  },
  {
   "cell_type": "code",
   "execution_count": null,
   "metadata": {},
   "outputs": [],
   "source": []
  }
 ],
 "metadata": {
  "kernelspec": {
   "display_name": "Python 3",
   "language": "python",
   "name": "python3"
  },
  "language_info": {
   "codemirror_mode": {
    "name": "ipython",
    "version": 3
   },
   "file_extension": ".py",
   "mimetype": "text/x-python",
   "name": "python",
   "nbconvert_exporter": "python",
   "pygments_lexer": "ipython3",
   "version": "3.7.7"
  }
 },
 "nbformat": 4,
 "nbformat_minor": 4
}
